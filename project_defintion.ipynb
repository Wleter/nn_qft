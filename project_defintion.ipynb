{
 "cells": [
  {
   "cell_type": "markdown",
   "id": "03d3052e",
   "metadata": {},
   "source": [
    "# Project Definition"
   ]
  },
  {
   "cell_type": "markdown",
   "id": "1203fdf1",
   "metadata": {},
   "source": [
    "The aim of the project is to reimplement and reproduce the results from\n",
    "\n",
    "Martyn, J. M., Najafi, K., & Luo, D. (2023).\\\n",
    "Variational neural-network ansatz for continuum quantum field theory.\\\n",
    "Physical Review Letters, 131(8), 081601.\n"
   ]
  },
  {
   "cell_type": "markdown",
   "id": "9dfc8ca9",
   "metadata": {
    "vscode": {
     "languageId": "plaintext"
    }
   },
   "source": [
    "Given $N$ bosons at positions $x_n$, the neural network returns $\\phi(\\{x_n\\})$, \n",
    "where $\\phi$ depend on the set of $x_n$ not on the order of $x_n$.\n",
    "\n",
    "We will most likely use Deep Sets, which is $\\phi(\\{x_n\\}) = \\theta(\\sum_i \\varphi(x_i))$, \n",
    "where $\\theta$ and $\\varphi$ is a fully connected layer(s).\n",
    "\n",
    "$\\varphi$ consists of input embedding and fully connected nn and give output [nBatch, nOut] and\n",
    "$\\theta$ is a fully connected nn with input [nBatch, nOut] and output [nBatch, 1].\n",
    "\n"
   ]
  },
  {
   "cell_type": "markdown",
   "id": "cadaa391",
   "metadata": {
    "vscode": {
     "languageId": "plaintext"
    }
   },
   "source": [
    "Using this neural network we construct the orbitals of the many-body ground state\n",
    "\n",
    "$\n",
    "\\ket{\\Psi^{\\text{NQFS}}} = \\bigoplus_{n=0}^{\\infty} \\int d^n x \\; \\varphi_n^{\\text{NQFS}}(\\mathbf{x}_n) \\ket{\\mathbf{x}_n},\n",
    "$ \\\n",
    "where \\\n",
    "$\\psi_n(x_n) = \\frac{1}{L^\\frac{n}{2}} \\phi_1(\\{x_n\\}) \\phi_2(\\{x_i - x_j\\}_{i < j})$ \\\n",
    "and $\\phi_1$, $\\phi_2$ are the neural networks mentioned above.\n"
   ]
  }
 ],
 "metadata": {
  "language_info": {
   "name": "python"
  }
 },
 "nbformat": 4,
 "nbformat_minor": 5
}
