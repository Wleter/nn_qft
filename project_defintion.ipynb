{
 "cells": [
  {
   "cell_type": "markdown",
   "id": "03d3052e",
   "metadata": {},
   "source": [
    "# Project Definition"
   ]
  },
  {
   "cell_type": "markdown",
   "id": "1203fdf1",
   "metadata": {},
   "source": [
    "Author: Marcin Welter \\\n",
    "Project is done jointly with Paweł Przybyła\n",
    "\n",
    "The aim of the project is to reimplement and reproduce the results from\n",
    "\n",
    "Martyn, J. M., Najafi, K., & Luo, D. (2023).\\\n",
    "Variational neural-network ansatz for continuum quantum field theory.\\\n",
    "Physical Review Letters, 131(8), 081601.\n"
   ]
  },
  {
   "cell_type": "markdown",
   "id": "3f5279d6",
   "metadata": {},
   "source": [
    "## Neural network definition"
   ]
  },
  {
   "cell_type": "markdown",
   "id": "9dfc8ca9",
   "metadata": {
    "vscode": {
     "languageId": "plaintext"
    }
   },
   "source": [
    "Given $N$ bosons at positions $x_n$, the neural network returns $\\phi(\\{x_n\\})$, \n",
    "where $\\phi$ depend on the set of $x_n$ not on the order of $x_n$.\n",
    "\n",
    "We will most likely use Deep Sets, which is $\\phi(\\{x_n\\}) = \\theta(\\sum_i \\varphi(x_i))$, \n",
    "where $\\theta$ and $\\varphi$ is a fully connected layer(s).\n",
    "\n",
    "$\\varphi$ consists of input embedding and fully connected nn and give output [nBatch, nOut] and\n",
    "$\\theta$ is a fully connected nn with input [nBatch, nOut] and output [nBatch, 1].\n",
    "\n"
   ]
  },
  {
   "cell_type": "markdown",
   "id": "974323ed",
   "metadata": {},
   "source": [
    "## Model objective"
   ]
  },
  {
   "cell_type": "markdown",
   "id": "cadaa391",
   "metadata": {
    "vscode": {
     "languageId": "plaintext"
    }
   },
   "source": [
    "We have some many-body system with the Hamiltonian $H$ and we want to find its ground state.\n",
    "\n",
    "Using this neural network we construct the orbitals of the many-body system that will represent the wanted ground state\n",
    "\n",
    "$\n",
    "\\ket{\\Psi^{\\text{NQFS}}} = \\bigoplus_{n=0}^{\\infty} \\int d^n x \\; \n",
    "\\psi_n^{\\text{NQFS}}(\\mathbf{x}_n) \\ket{\\mathbf{x}_n},\n",
    "$ \\\n",
    "where \\\n",
    "$\\psi_n^{\\text{NQFS}}(x_n) = \\frac{1}{L^\\frac{n}{2}} \\phi_1(\\{x_n\\}) \\phi_2(\\{x_i - x_j\\}_{i < j})$ \\\n",
    "and $\\phi_1$, $\\phi_2$ are the neural networks mentioned above.\n"
   ]
  },
  {
   "cell_type": "markdown",
   "id": "bad59178",
   "metadata": {},
   "source": [
    "## Learning Algorithm"
   ]
  },
  {
   "cell_type": "markdown",
   "id": "24106b6c",
   "metadata": {},
   "source": [
    "We calculate the energy of the system and its derivative \n",
    "with respect to the neural network and using gradient descent we optimize the neural network to minimize the energy.\n",
    "\n",
    "The estimation of the energy is\n",
    "\n",
    "$\n",
    "E(\\ket{\\Psi}) = \\frac{\\langle \\Psi | H | \\Psi \\rangle}{\\langle \\Psi | \\Psi \\rangle} = \n",
    "\\mathbb{E}_{n \\sim |\\psi_n|^2} \\; \\mathbb{E}_{\\mathbf{x}_n \\sim |\\psi_n(x_n)|^2} \n",
    "\\left[ E_n^{\\text{loc}}(\\mathbf{x}_n) \\right],\n",
    "$\\\n",
    "where $E_n^{\\text{loc}}(\\mathbf{x}_n)$ can be readily calculated for given system and the orbitals.\n",
    "\n",
    "The energy and its derivative is estimated by Monte-Carlo method, where the sampling of the configurations $x_n$\n",
    "are done with Metropolis Algorithm, which approximate the distribution of the number of particles $n \\sim P_n \\sim |\\psi_n|^2$ and the positions of the particles $x_n \\sim |\\psi_n(x_n)|^2 $ with appropriate normalization factors."
   ]
  },
  {
   "cell_type": "markdown",
   "id": "c579c3be",
   "metadata": {},
   "source": [
    "## Tasks division"
   ]
  },
  {
   "cell_type": "markdown",
   "id": "104ba446",
   "metadata": {},
   "source": [
    "Marcin:\n",
    "- implement Metropolis algorithm,\n",
    "- implement gradient descent of Energy,\n",
    "\n",
    "Paweł:\n",
    "- Create neural network architecture,\n",
    "- Calculate expected energy and other observables\n",
    "\n",
    "Both of us train neural network for some given system."
   ]
  }
 ],
 "metadata": {
  "language_info": {
   "name": "python"
  }
 },
 "nbformat": 4,
 "nbformat_minor": 5
}
