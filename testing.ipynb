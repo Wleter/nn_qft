{
 "cells": [
  {
   "cell_type": "code",
   "execution_count": null,
   "metadata": {},
   "outputs": [],
   "source": [
    "import tensorflow as tf\n",
    "from modules.metropolis import *\n",
    "import numpy as np\n",
    "import matplotlib.pyplot as plt\n",
    "\n",
    "@dataclass\n",
    "class SimpleProblem(QFTProblem):\n",
    "    size: tuple[float, float] = (10, 100)\n",
    "\n",
    "    def volume(self) -> npt.NDArray:\n",
    "        return np.array(self.size).reshape((1, 2))\n",
    "\n",
    "    def get_amplitude(self, x_n: tf.Tensor) -> tf.Tensor:\n",
    "        profile = tf.pow(tf.reduce_prod(tf.sin(x_n[:, :, 0]) * tf.sin(x_n[:, :, 1] / 20), axis = 1), 2)\n",
    "\n",
    "        return profile * np.exp(-x_n.shape[1] / 10.) / np.power(np.prod(self.volume()), x_n.shape[1] / 2.) * (0.1 + x_n.shape[1])"
   ]
  },
  {
   "cell_type": "code",
   "execution_count": 101,
   "metadata": {},
   "outputs": [
    {
     "name": "stdout",
     "output_type": "stream",
     "text": [
      "initial\n",
      " [[ 6.36961687 26.97867138]\n",
      " [ 0.40973524  1.65276355]\n",
      " [ 8.13270239 91.27555773]\n",
      " [ 6.06635776 72.9496561 ]\n",
      " [ 5.43624991 93.50724238]]\n",
      "add new\n",
      " [[ 6.36961687 26.97867138]\n",
      " [ 0.40973524  1.65276355]\n",
      " [ 8.13270239 91.27555773]\n",
      " [ 6.06635776 72.9496561 ]\n",
      " [ 5.43624991 93.50724238]\n",
      " [ 8.15853536  0.27385002]]\n",
      "remove one\n",
      " [[ 6.36961687 26.97867138]\n",
      " [ 8.13270239 91.27555773]\n",
      " [ 6.06635776 72.9496561 ]\n",
      " [ 5.43624991 93.50724238]]\n",
      "change position\n",
      " [[ 1.70547263 49.94421602]\n",
      " [ 7.16629145 37.97065579]\n",
      " [ 8.54731459 71.24674678]\n",
      " [ 5.29322997 25.78162321]\n",
      " [ 1.67908268 10.56968385]]\n",
      "change position\n",
      " [[ 7.84151199 38.51718252]\n",
      " [ 9.24651078 51.37375713]\n",
      " [ 2.94105578  9.82975618]\n",
      " [ 7.57095052 91.79432916]\n",
      " [ 4.32546415 57.01689288]]\n",
      "initial\n",
      " []\n",
      "remove one\n",
      " None\n",
      "add new\n",
      " [[ 7.21488357 52.53543258]]\n"
     ]
    }
   ],
   "source": [
    "test_problem = SimpleProblem()\n",
    "\n",
    "metropolis = FockSpaceMetropolis(test_problem, rng=np.random.default_rng(0))\n",
    "\n",
    "x_n = metropolis.new_configuration(5)\n",
    "print(\"initial\\n\", x_n)\n",
    "\n",
    "x_add = metropolis.add_new(x_n)\n",
    "print(\"add new\\n\", x_add)\n",
    "\n",
    "x_remove = metropolis.remove_one(x_n)\n",
    "print(\"remove one\\n\", x_remove)\n",
    "            \n",
    "x_changed = metropolis.change_positions(x_n)\n",
    "print(\"change position\\n\", x_changed)\n",
    "\n",
    "x_changed = metropolis.change_positions(x_n)\n",
    "print(\"change position\\n\", x_changed)\n",
    "\n",
    "x_n = metropolis.new_configuration(0)\n",
    "print(\"initial\\n\", x_n)\n",
    "\n",
    "x_remove = metropolis.remove_one(x_n)\n",
    "print(\"remove one\\n\", x_remove)\n",
    "\n",
    "x_add = metropolis.add_new(x_n)\n",
    "print(\"add new\\n\", x_add)"
   ]
  },
  {
   "cell_type": "code",
   "execution_count": 102,
   "metadata": {},
   "outputs": [],
   "source": [
    "x_recent = metropolis.new_configuration(5)\n",
    "configurations = [x_recent]\n",
    "for _ in range(10000):\n",
    "    result = metropolis.step(x_recent)\n",
    "    if result is None:\n",
    "        continue\n",
    "\n",
    "    x_recent = result\n",
    "    configurations.append(x_recent)"
   ]
  },
  {
   "cell_type": "code",
   "execution_count": 103,
   "metadata": {},
   "outputs": [
    {
     "data": {
      "image/png": "[encoded data removed]",
      "text/plain": [
       "<Figure size 2000x500 with 3 Axes>"
      ]
     },
     "metadata": {},
     "output_type": "display_data"
    }
   ],
   "source": [
    "fig, axes = plt.subplots(1, 3, figsize=(20, 5))\n",
    "\n",
    "skip = int(0.3 * len(configurations))\n",
    "\n",
    "configurations = configurations[skip:]\n",
    "\n",
    "n_values = list(map(lambda x: x.shape[0], configurations))\n",
    "axes[0].hist(n_values) # type: ignore\n",
    "\n",
    "positions_1 = np.concatenate(list(map(lambda x: x[:, 0], configurations))).ravel()\n",
    "positions_2 = np.concatenate(list(map(lambda x: x[:, 1], configurations))).ravel()\n",
    "\n",
    "axes[1].hist(positions_1, bins=50) # type: ignore\n",
    "axes[2].hist(positions_2, bins=50); # type: ignore"
   ]
  },
  {
   "cell_type": "code",
   "execution_count": 104,
   "metadata": {},
   "outputs": [
    {
     "name": "stdout",
     "output_type": "stream",
     "text": [
      "tf.Tensor([[[ 4.85924769 23.90258908]]], shape=(1, 1, 2), dtype=float64)\n",
      "y tf.Tensor([0.02665474], shape=(1,), dtype=float64)\n",
      "gradient tf.Tensor([[[-0.00788573  0.00105125]]], shape=(1, 1, 2), dtype=float64)\n",
      "laplacian tf.Tensor([[[-0.05214298 -0.00011254]]], shape=(1, 1, 2), dtype=float64)\n"
     ]
    }
   ],
   "source": [
    "with tf.GradientTape() as g2:\n",
    "    with tf.GradientTape() as g:\n",
    "        x_n = tf.expand_dims(tf.Variable(configurations[20]), axis=0)\n",
    "        print(x_n)\n",
    "\n",
    "        value = test_problem.get_amplitude(x_n)\n",
    "\n",
    "    gradient = g.gradient(value, x_n)\n",
    "\n",
    "hessian = g2.jacobian(gradient, x_n)\n",
    "# laplacian = tf.linalg.trace(laplacian)\n",
    "laplacian = tf.einsum('bpibpi->bpi', hessian)\n",
    "\n",
    "print(\"y\", value)\n",
    "print(\"gradient\", gradient)\n",
    "print(\"laplacian\", laplacian)"
   ]
  },
  {
   "cell_type": "code",
   "execution_count": 105,
   "metadata": {},
   "outputs": [
    {
     "name": "stdout",
     "output_type": "stream",
     "text": [
      "y 0.026654735548713143\n",
      "dy/dx0 -0.007885733618981039\n",
      "dy/dx1 0.0010512547138865212\n",
      "d^2y/dx0^2 -0.05214298429068455\n",
      "d^2y/dx1^2 -0.00011254309365187722\n"
     ]
    }
   ],
   "source": [
    "x0 = 4.85924769\n",
    "x1 = 23.90258908\n",
    "\n",
    "print(\"y\", np.power(np.sin(x0) * np.sin(x1 / 20), 2) * np.exp(-0.1) / np.sqrt(1000) * 1.1)\n",
    "print(\"dy/dx0\", np.sin(2 * x0) * np.sin(x1 / 20) ** 2 * np.exp(-0.1) / np.sqrt(1000) * 1.1)\n",
    "print(\"dy/dx1\", 1 / 20 * np.sin(x0) ** 2 * np.sin(2 * x1 / 20) * np.exp(-0.1) / np.sqrt(1000) * 1.1)\n",
    "print(\"d^2y/dx0^2\", 2 * np.cos(2 * x0) * np.sin(x1 / 20) ** 2 * np.exp(-0.1) / np.sqrt(1000) * 1.1)\n",
    "print(\"d^2y/dx1^2\", 1 / 200 * np.sin(x0) ** 2 * np.cos(2 * x1 / 20) * np.exp(-0.1) / np.sqrt(1000) * 1.1)"
   ]
  },
  {
   "cell_type": "code",
   "execution_count": 107,
   "metadata": {},
   "outputs": [
    {
     "name": "stdout",
     "output_type": "stream",
     "text": [
      "tf.Tensor([[[ 4.85924769 23.90258908]]], shape=(1, 1, 2), dtype=float64)\n",
      "kinetic term\n",
      "tf.Tensor(1.9604594187861322, shape=(), dtype=float64)\n",
      "Chemical potential\n",
      "tf.Tensor([[1.]], shape=(1, 1), dtype=float32)\n"
     ]
    }
   ],
   "source": [
    "from importlib import reload\n",
    "import modules.hamiltonians.hamiltonian_terms as terms\n",
    "reload(terms)\n",
    "\n",
    "kinetic_term = terms.KineticTerm(0.5)\n",
    "\n",
    "print(x_n)\n",
    "\n",
    "print(\"kinetic term\")\n",
    "print(kinetic_term.local_energy(x_n, test_problem))\n",
    "\n",
    "chemical_potential = terms.ExternalPotential.chemical_potential(1)\n",
    "\n",
    "print(\"Chemical potential\")\n",
    "print(chemical_potential.local_energy(x_n, test_problem))"
   ]
  }
 ],
 "metadata": {
  "kernelspec": {
   "display_name": "Python 3",
   "language": "python",
   "name": "python3"
  },
  "language_info": {
   "codemirror_mode": {
    "name": "ipython",
    "version": 3
   },
   "file_extension": ".py",
   "mimetype": "text/x-python",
   "name": "python",
   "nbconvert_exporter": "python",
   "pygments_lexer": "ipython3",
   "version": "3.12.10"
  }
 },
 "nbformat": 4,
 "nbformat_minor": 2
}
