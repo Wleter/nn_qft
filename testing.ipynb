{
 "cells": [
  {
   "cell_type": "code",
   "execution_count": 1,
   "metadata": {},
   "outputs": [],
   "source": [
    "import tensorflow as tf\n",
    "from modules.metropolis import *\n",
    "import numpy as np\n",
    "import matplotlib.pyplot as plt\n",
    "import tensorflow_datasets as tfds\n",
    "from collections import Counter\n",
    "\n",
    "@dataclass\n",
    "class TestProblem(QFTProblem):\n",
    "    size: tuple[float, float] = (10, 100)\n",
    "\n",
    "    def volume(self) -> npt.NDArray:\n",
    "        return np.array(self.size)\n",
    "\n",
    "    def get_amplitude(self, x_n: tf.Tensor, ns: npt.NDArray, training: bool = False) -> tf.Tensor:\n",
    "        mask = tf.sequence_mask(ns, maxlen = x_n.shape[-2])\n",
    "\n",
    "        mask = tf.cast(mask, x_n.dtype)\n",
    "        masked_sin = tf.where(mask > 0, tf.sin(x_n[:, :, 0]) * tf.sin(x_n[:, :, 1] / 20), tf.ones_like(x_n[:, :, 0])) # type: ignore\n",
    "        profile = tf.pow(tf.reduce_prod(masked_sin, axis=1), 2)\n",
    "\n",
    "        ns = tf.cast(ns, x_n.dtype) # type: ignore\n",
    "\n",
    "        return profile * np.exp(-ns / 10.) / np.power(np.prod(self.volume()), ns / 2.) * (0.1 + ns)"
   ]
  },
  {
   "cell_type": "code",
   "execution_count": 2,
   "metadata": {},
   "outputs": [
    {
     "name": "stdout",
     "output_type": "stream",
     "text": [
      "initial\n",
      " ConfigurationBatch(x_n=array([[[ 6.36961687, 26.97867138],\n",
      "        [ 0.40973524,  1.65276355],\n",
      "        [ 8.13270239, 91.27555773],\n",
      "        [ 6.06635776, 72.9496561 ],\n",
      "        [ 5.43624991, 93.50724238]],\n",
      "\n",
      "       [[ 8.15853554,  0.27385002],\n",
      "        [ 8.57404277,  3.35855753],\n",
      "        [ 7.29655446, 17.56556206],\n",
      "        [ 8.63178922, 54.14612202],\n",
      "        [ 2.99711891, 42.26872212]]]), n_s=array([2, 2], dtype=int32))\n",
      "add new\n",
      " ConfigurationBatch(x_n=array([[[ 6.36961687, 26.97867138],\n",
      "        [ 0.40973524,  1.65276355],\n",
      "        [ 0.28319671, 12.42832765],\n",
      "        [ 6.06635776, 72.9496561 ],\n",
      "        [ 5.43624991, 93.50724238]],\n",
      "\n",
      "       [[ 8.15853554,  0.27385002],\n",
      "        [ 8.57404277,  3.35855753],\n",
      "        [ 6.70624415, 64.71895116],\n",
      "        [ 8.63178922, 54.14612202],\n",
      "        [ 2.99711891, 42.26872212]]]), n_s=array([3, 3], dtype=int32))\n",
      "remove one\n",
      " ConfigurationBatch(x_n=array([[[ 6.36961687, 26.97867138],\n",
      "        [ 0.40973524,  1.65276355],\n",
      "        [ 8.13270239, 91.27555773],\n",
      "        [ 6.06635776, 72.9496561 ],\n",
      "        [ 5.43624991, 93.50724238]],\n",
      "\n",
      "       [[ 8.15853554,  0.27385002],\n",
      "        [ 8.57404277,  3.35855753],\n",
      "        [ 7.29655446, 17.56556206],\n",
      "        [ 8.63178922, 54.14612202],\n",
      "        [ 2.99711891, 42.26872212]]]), n_s=array([1, 1], dtype=int32))\n",
      "change position\n",
      " ConfigurationBatch(x_n=array([[[ 7.52346799, 15.3464268 ],\n",
      "        [ 5.3818346 , 49.73629743],\n",
      "        [ 9.98812224,  6.32148535],\n",
      "        [ 7.95082506, 61.8417985 ],\n",
      "        [ 1.78721496, 15.6560764 ]],\n",
      "\n",
      "       [[ 8.41207877, 81.29803757],\n",
      "        [ 8.43239635, 42.30734097],\n",
      "        [ 1.63698962,  3.34508173],\n",
      "        [ 9.34708753, 36.33306113],\n",
      "        [ 3.94011921, 26.05984467]]]), n_s=array([2, 2], dtype=int32))\n",
      "change position\n",
      " ConfigurationBatch(x_n=array([[[ 5.28580688, 66.00610658],\n",
      "        [ 7.68131117, 13.97147802],\n",
      "        [ 3.97285583, 24.53997249],\n",
      "        [ 8.93734083, 46.8866004 ],\n",
      "        [ 9.20109222, 49.36404586]],\n",
      "\n",
      "       [[ 6.51970615, 65.30179671],\n",
      "        [ 8.07743643, 32.99098456],\n",
      "        [ 4.60297655, 72.76769217],\n",
      "        [ 7.67730762, 23.99742648],\n",
      "        [ 8.90464936, 50.30196072]]]), n_s=array([2, 2], dtype=int32))\n",
      "step one\n",
      " ConfigurationBatch(x_n=array([[[ 6.36961687, 26.97867138],\n",
      "        [ 0.40973524,  1.65276355],\n",
      "        [ 8.13270239, 91.27555773],\n",
      "        [ 6.06635776, 72.9496561 ],\n",
      "        [ 5.43624991, 93.50724238]],\n",
      "\n",
      "       [[ 6.80963722, 60.82337797],\n",
      "        [ 9.86512428, 46.07401284],\n",
      "        [ 6.70032601, 63.02461143],\n",
      "        [ 8.63074736, 46.66898451],\n",
      "        [ 4.19925343, 91.77837264]]]), n_s=array([1, 2], dtype=int32))\n",
      "initial\n",
      " ConfigurationBatch(x_n=array([[[ 9.48943675, 46.00451393],\n",
      "        [ 7.57728845, 49.74226955],\n",
      "        [ 5.2931216 , 78.57857007],\n",
      "        [ 4.14655849, 73.44835718],\n",
      "        [ 7.11142878, 93.20596866]],\n",
      "\n",
      "       [[ 1.14932633, 72.90151171],\n",
      "        [ 9.27423929, 96.79261899],\n",
      "        [ 0.14706305, 86.36400902],\n",
      "        [ 9.8119504 , 95.72101796],\n",
      "        [ 1.48764012, 97.26288138]]]), n_s=array([0, 0], dtype=int32))\n",
      "remove one\n",
      " ConfigurationBatch(x_n=array([[[ 9.48943675, 46.00451393],\n",
      "        [ 7.57728845, 49.74226955],\n",
      "        [ 5.2931216 , 78.57857007],\n",
      "        [ 4.14655849, 73.44835718],\n",
      "        [ 7.11142878, 93.20596866]],\n",
      "\n",
      "       [[ 1.14932633, 72.90151171],\n",
      "        [ 9.27423929, 96.79261899],\n",
      "        [ 0.14706305, 86.36400902],\n",
      "        [ 9.8119504 , 95.72101796],\n",
      "        [ 1.48764012, 97.26288138]]]), n_s=array([0, 0], dtype=int32))\n",
      "add new\n",
      " ConfigurationBatch(x_n=array([[[ 8.89935556, 82.23738275],\n",
      "        [ 7.57728845, 49.74226955],\n",
      "        [ 5.2931216 , 78.57857007],\n",
      "        [ 4.14655849, 73.44835718],\n",
      "        [ 7.11142878, 93.20596866]],\n",
      "\n",
      "       [[ 4.79987924, 23.23729196],\n",
      "        [ 9.27423929, 96.79261899],\n",
      "        [ 0.14706305, 86.36400902],\n",
      "        [ 9.8119504 , 95.72101796],\n",
      "        [ 1.48764012, 97.26288138]]]), n_s=array([1, 1], dtype=int32))\n"
     ]
    }
   ],
   "source": [
    "test_problem = TestProblem()\n",
    "\n",
    "metropolis = FockSpaceMetropolis(test_problem, 5, rng=np.random.default_rng(0))\n",
    "\n",
    "x_n, ampilitude = metropolis.new_configuration(2, 2)\n",
    "print(\"initial\\n\", x_n)\n",
    "\n",
    "x_add = metropolis.add_new(x_n)\n",
    "print(\"add new\\n\", x_add)\n",
    "\n",
    "x_remove = metropolis.remove_one(x_n)\n",
    "print(\"remove one\\n\", x_remove)\n",
    "            \n",
    "x_changed = metropolis.change_positions(x_n)\n",
    "print(\"change position\\n\", x_changed)\n",
    "\n",
    "x_changed = metropolis.change_positions(x_n)\n",
    "print(\"change position\\n\", x_changed)\n",
    "\n",
    "x_step, _ = metropolis.step(x_n, ampilitude)\n",
    "print(\"step one\\n\", x_step)\n",
    "x_n, _ = metropolis.new_configuration(2, 0)\n",
    "print(\"initial\\n\", x_n)\n",
    "\n",
    "x_remove = metropolis.remove_one(x_n)\n",
    "print(\"remove one\\n\", x_remove)\n",
    "\n",
    "x_add = metropolis.add_new(x_n)\n",
    "print(\"add new\\n\", x_add)\n"
   ]
  },
  {
   "cell_type": "code",
   "execution_count": 2,
   "metadata": {},
   "outputs": [],
   "source": [
    "import modules.metropolis as metro\n",
    "import importlib\n",
    "importlib.reload(metro)\n",
    "\n",
    "batch = 32\n",
    "n_max = 10\n",
    "\n",
    "test_problem = TestProblem()\n",
    "test_metropolis = metro.FockSpaceMetropolis(test_problem, n_max, rng=np.random.default_rng(0))\n",
    "\n",
    "def metropolis_step(metropolis: FockSpaceMetropolis, batch = 32, n_init = 5):\n",
    "    x_recent, amplitude_recent = metropolis.new_configuration(batch, n_init)\n",
    "    while True:\n",
    "        x_recent, amplitude_recent = metropolis.step(x_recent, amplitude_recent)\n",
    "        yield x_recent.x_n, x_recent.n_s\n",
    "\n",
    "dataset = tf.data.Dataset.from_generator(\n",
    "    lambda: metropolis_step(test_metropolis, batch = batch),\n",
    "    output_signature = (\n",
    "        tf.TensorSpec(shape=(batch, n_max, 2), dtype=tf.float32, name=\"features\"), # type: ignore\n",
    "        tf.TensorSpec(shape=(batch), dtype=tf.int32) # type: ignore\n",
    "    )\n",
    ")\n"
   ]
  },
  {
   "cell_type": "code",
   "execution_count": 3,
   "metadata": {},
   "outputs": [
    {
     "data": {
      "image/png": "[encoded data removed]",
      "text/plain": [
       "<Figure size 2000x500 with 3 Axes>"
      ]
     },
     "metadata": {},
     "output_type": "display_data"
    }
   ],
   "source": [
    "from collections import Counter\n",
    "\n",
    "configurations = dataset.unbatch().skip(3000).take(7000).cache()\n",
    "fig, axes = plt.subplots(1, 3, figsize=(20, 5))\n",
    "\n",
    "n_values = list(map(lambda x_n: x_n[1].numpy(), configurations))\n",
    "n_counter = Counter(n_values)\n",
    "axes[0].bar(n_counter.keys(), n_counter.values())\n",
    "\n",
    "positions_1 = np.concatenate(list(map(lambda x_n: x_n[0][:x_n[1], 0], configurations))).ravel()\n",
    "positions_2 = np.concatenate(list(map(lambda x_n: x_n[0][:x_n[1], 1], configurations))).ravel()\n",
    "\n",
    "axes[1].hist(positions_1, bins=50)\n",
    "axes[2].hist(positions_2, bins=50);"
   ]
  },
  {
   "cell_type": "code",
   "execution_count": 5,
   "metadata": {},
   "outputs": [
    {
     "name": "stdout",
     "output_type": "stream",
     "text": [
      "\n",
      "************ Summary ************\n",
      "\n"
     ]
    },
    {
     "data": {
      "application/vnd.jupyter.widget-view+json": {
       "model_id": "af7bfd661731404da92761e9bcbe290a",
       "version_major": 2,
       "version_minor": 0
      },
      "text/plain": [
       "0it [00:00, ?it/s]"
      ]
     },
     "metadata": {},
     "output_type": "display_data"
    },
    {
     "name": "stdout",
     "output_type": "stream",
     "text": [
      "Examples/sec (First included) 15893.58 ex/sec (total: 320032 ex, 20.14 sec)\n",
      "Examples/sec (First only) 77.03 ex/sec (total: 32 ex, 0.42 sec)\n",
      "Examples/sec (First excluded) 16226.76 ex/sec (total: 320000 ex, 19.72 sec)\n"
     ]
    },
    {
     "data": {
      "text/html": [
       "<strong>BenchmarkResult:</strong><br/><div>\n",
       "<style scoped>\n",
       "    .dataframe tbody tr th:only-of-type {\n",
       "        vertical-align: middle;\n",
       "    }\n",
       "\n",
       "    .dataframe tbody tr th {\n",
       "        vertical-align: top;\n",
       "    }\n",
       "\n",
       "    .dataframe thead th {\n",
       "        text-align: right;\n",
       "    }\n",
       "</style>\n",
       "<table border=\"1\" class=\"dataframe\">\n",
       "  <thead>\n",
       "    <tr style=\"text-align: right;\">\n",
       "      <th></th>\n",
       "      <th>duration</th>\n",
       "      <th>num_examples</th>\n",
       "      <th>avg</th>\n",
       "    </tr>\n",
       "  </thead>\n",
       "  <tbody>\n",
       "    <tr>\n",
       "      <th>first+lasts</th>\n",
       "      <td>20.135933</td>\n",
       "      <td>320032</td>\n",
       "      <td>15893.576999</td>\n",
       "    </tr>\n",
       "    <tr>\n",
       "      <th>first</th>\n",
       "      <td>0.415424</td>\n",
       "      <td>32</td>\n",
       "      <td>77.029771</td>\n",
       "    </tr>\n",
       "    <tr>\n",
       "      <th>lasts</th>\n",
       "      <td>19.720509</td>\n",
       "      <td>320000</td>\n",
       "      <td>16226.761610</td>\n",
       "    </tr>\n",
       "  </tbody>\n",
       "</table>\n",
       "</div>"
      ],
      "text/plain": [
       "BenchmarkResult(stats=              duration  num_examples           avg\n",
       "first+lasts  20.135933        320032  15893.576999\n",
       "first         0.415424            32     77.029771\n",
       "lasts        19.720509        320000  16226.761610, raw_stats=                      duration\n",
       "start_time        1.608630e+06\n",
       "first_batch_time  1.608630e+06\n",
       "end_time          1.608650e+06\n",
       "num_iter          1.000000e+04)"
      ]
     },
     "execution_count": 5,
     "metadata": {},
     "output_type": "execute_result"
    }
   ],
   "source": [
    "tfds.benchmark(dataset.take(10000), batch_size = batch)"
   ]
  },
  {
   "cell_type": "code",
   "execution_count": 6,
   "metadata": {},
   "outputs": [
    {
     "name": "stdout",
     "output_type": "stream",
     "text": [
      "<tf.Variable 'Variable:0' shape=(1, 10, 2) dtype=float32, numpy=\n",
      "array([[[ 5.0902042 , 72.595436  ],\n",
      "        [ 8.687788  , 43.252575  ],\n",
      "        [ 0.95789915,  8.690153  ],\n",
      "        [ 0.83288276, 89.49227   ],\n",
      "        [ 8.087362  , 43.382     ],\n",
      "        [ 1.1243632 , 23.481735  ],\n",
      "        [ 9.022893  , 62.04052   ],\n",
      "        [ 5.9924383 , 55.55923   ],\n",
      "        [ 8.205903  , 53.68986   ],\n",
      "        [ 6.432432  , 77.57588   ]]], dtype=float32)> tf.Tensor([2], shape=(1,), dtype=int32)\n",
      "y tf.Tensor([0.00010165], shape=(1,), dtype=float32)\n",
      "gradient tf.Tensor(\n",
      "[[[-8.0685510e-05  1.9141149e-05]\n",
      "  [-2.2399958e-04 -6.8329973e-06]\n",
      "  [ 0.0000000e+00  0.0000000e+00]\n",
      "  [ 0.0000000e+00  0.0000000e+00]\n",
      "  [ 0.0000000e+00  0.0000000e+00]\n",
      "  [ 0.0000000e+00  0.0000000e+00]\n",
      "  [ 0.0000000e+00  0.0000000e+00]\n",
      "  [ 0.0000000e+00  0.0000000e+00]\n",
      "  [ 0.0000000e+00  0.0000000e+00]\n",
      "  [ 0.0000000e+00  0.0000000e+00]]], shape=(1, 10, 2), dtype=float32)\n",
      "laplacian tf.Tensor(\n",
      "[[[-1.7127609e-04  1.2939470e-06]\n",
      "  [ 4.3509703e-05 -2.7858530e-07]\n",
      "  [ 0.0000000e+00  0.0000000e+00]\n",
      "  [ 0.0000000e+00  0.0000000e+00]\n",
      "  [ 0.0000000e+00  0.0000000e+00]\n",
      "  [ 0.0000000e+00  0.0000000e+00]\n",
      "  [ 0.0000000e+00  0.0000000e+00]\n",
      "  [ 0.0000000e+00  0.0000000e+00]\n",
      "  [ 0.0000000e+00  0.0000000e+00]\n",
      "  [ 0.0000000e+00  0.0000000e+00]]], shape=(1, 10, 2), dtype=float32)\n"
     ]
    }
   ],
   "source": [
    "with tf.GradientTape() as g2:\n",
    "    with tf.GradientTape() as g:\n",
    "        x_n, n_s = next(iter(configurations.batch(1).skip(40))) # type: ignore\n",
    "\n",
    "        x_n = tf.Variable(x_n)\n",
    "        print(x_n, n_s)\n",
    "\n",
    "        value = test_problem.get_amplitude(x_n, n_s) # type: ignore\n",
    "\n",
    "    gradient = g.gradient(value, x_n)\n",
    "\n",
    "hessian = g2.jacobian(gradient, x_n)\n",
    "# laplacian = tf.linalg.trace(laplacian)\n",
    "laplacian = tf.einsum('bpibpi->bpi', hessian)\n",
    "\n",
    "print(\"y\", value)\n",
    "print(\"gradient\", gradient)\n",
    "print(\"laplacian\", laplacian)"
   ]
  },
  {
   "cell_type": "code",
   "execution_count": 7,
   "metadata": {},
   "outputs": [
    {
     "name": "stdout",
     "output_type": "stream",
     "text": [
      "y 0.026654735548713143\n",
      "dy/dx0 -0.007885733618981039\n",
      "dy/dx1 0.0010512547138865212\n",
      "d^2y/dx0^2 -0.05214298429068455\n",
      "d^2y/dx1^2 -0.00011254309365187722\n"
     ]
    }
   ],
   "source": [
    "x0 = 4.85924769\n",
    "x1 = 23.90258908\n",
    "\n",
    "print(\"y\", np.power(np.sin(x0) * np.sin(x1 / 20), 2) * np.exp(-0.1) / np.sqrt(1000) * 1.1)\n",
    "print(\"dy/dx0\", np.sin(2 * x0) * np.sin(x1 / 20) ** 2 * np.exp(-0.1) / np.sqrt(1000) * 1.1)\n",
    "print(\"dy/dx1\", 1 / 20 * np.sin(x0) ** 2 * np.sin(2 * x1 / 20) * np.exp(-0.1) / np.sqrt(1000) * 1.1)\n",
    "print(\"d^2y/dx0^2\", 2 * np.cos(2 * x0) * np.sin(x1 / 20) ** 2 * np.exp(-0.1) / np.sqrt(1000) * 1.1)\n",
    "print(\"d^2y/dx1^2\", 1 / 200 * np.sin(x0) ** 2 * np.cos(2 * x1 / 20) * np.exp(-0.1) / np.sqrt(1000) * 1.1)"
   ]
  },
  {
   "cell_type": "code",
   "execution_count": null,
   "metadata": {},
   "outputs": [],
   "source": [
    "from importlib import reload\n",
    "import modules.hamiltonians.hamiltonian_terms as terms\n",
    "reload(terms)\n",
    "\n",
    "kinetic_term = terms.KineticTerm(0.5)\n",
    "\n",
    "x_n, n_s = next(iter(configurations.batch(4).skip(20))) # type: ignore\n",
    "x_n: tf.Tensor = tf.Variable(x_n) # type: ignore\n",
    "\n",
    "print(\"kinetic term\")\n",
    "print(kinetic_term.local_energy(x_n, n_s, test_problem))\n",
    "\n",
    "chemical_potential = terms.ExternalPotential.chemical_potential(1)\n",
    "\n",
    "print(\"Chemical potential\")\n",
    "print(chemical_potential.local_energy(x_n, n_s, test_problem))"
   ]
  },
  {
   "cell_type": "code",
   "execution_count": 10,
   "metadata": {},
   "outputs": [],
   "source": [
    "import keras\n",
    "import modules.ansatz_nn as ansatz_nn\n",
    "from modules.hamiltonians.hamiltonian_terms import *\n",
    "import importlib\n",
    "importlib.reload(ansatz_nn)\n",
    "\n",
    "input_dim = 2\n",
    "\n",
    "ds1 = ansatz_nn.DeepSets(16, 2, 2, input_dim=input_dim)\n",
    "ds2 = ansatz_nn.DeepSets(16, 2, 2, input_dim=input_dim)\n",
    "\n",
    "test_model = ansatz_nn.QFTNeuralNet(np.array([10, 100]), ds1, ds2)\n",
    "dataset = metro.make_dataset(test_model, 32, 10, 5)\n",
    "\n",
    "hamiltonian = KineticTerm(0.5)\n"
   ]
  },
  {
   "cell_type": "code",
   "execution_count": 6,
   "metadata": {},
   "outputs": [
    {
     "data": {
      "text/plain": [
       "Reusing TensorBoard on port 6006 (pid 204880), started 1:53:21 ago. (Use '!kill 204880' to kill it.)"
      ]
     },
     "metadata": {},
     "output_type": "display_data"
    },
    {
     "data": {
      "text/html": [
       "\n",
       "      <iframe id=\"tensorboard-frame-acda8f155d800907\" width=\"100%\" height=\"800\" frameborder=\"0\">\n",
       "      </iframe>\n",
       "      <script>\n",
       "        (function() {\n",
       "          const frame = document.getElementById(\"tensorboard-frame-acda8f155d800907\");\n",
       "          const url = new URL(\"http://localhost\");\n",
       "          const port = 6006;\n",
       "          if (port) {\n",
       "            url.port = port;\n",
       "          }\n",
       "          frame.src = url;\n",
       "        })();\n",
       "      </script>\n",
       "    "
      ],
      "text/plain": [
       "<IPython.core.display.HTML object>"
      ]
     },
     "metadata": {},
     "output_type": "display_data"
    }
   ],
   "source": [
    "import os\n",
    "import datetime\n",
    "\n",
    "%load_ext tensorboard\n",
    "%reload_ext tensorboard\n",
    "\n",
    "logdir = os.path.join(\"logs\", datetime.datetime.now().strftime(\"%Y%m%d-%H%M%S\"))\n",
    "\n",
    "%tensorboard --logdir logs"
   ]
  },
  {
   "cell_type": "code",
   "execution_count": 11,
   "metadata": {},
   "outputs": [
    {
     "name": "stdout",
     "output_type": "stream",
     "text": [
      "Epoch 1/10\n",
      "\u001b[1m1000/1000\u001b[0m \u001b[32m━━━━━━━━━━━━━━━━━━━━\u001b[0m\u001b[37m\u001b[0m \u001b[1m14s\u001b[0m 9ms/step - energy: 0.0696 - loss: 0.0696 - mean_particle_number: 8.9564\n",
      "Epoch 2/10\n"
     ]
    },
    {
     "name": "stderr",
     "output_type": "stream",
     "text": [
      "c:\\Users\\marcr\\AppData\\Local\\Programs\\Python\\Python312\\Lib\\site-packages\\keras\\src\\trainers\\epoch_iterator.py:151: UserWarning: Your input ran out of data; interrupting training. Make sure that your dataset or generator can generate at least `steps_per_epoch * epochs` batches. You may need to use the `.repeat()` function when building your dataset.\n",
      "  self._interrupted_warning()\n"
     ]
    },
    {
     "name": "stdout",
     "output_type": "stream",
     "text": [
      "\u001b[1m1000/1000\u001b[0m \u001b[32m━━━━━━━━━━━━━━━━━━━━\u001b[0m\u001b[37m\u001b[0m \u001b[1m13s\u001b[0m 10ms/step - energy: 0.0703 - loss: 0.0703 - mean_particle_number: 8.9750\n",
      "Epoch 3/10\n",
      "\u001b[1m1000/1000\u001b[0m \u001b[32m━━━━━━━━━━━━━━━━━━━━\u001b[0m\u001b[37m\u001b[0m \u001b[1m13s\u001b[0m 9ms/step - energy: 0.0686 - loss: 0.0686 - mean_particle_number: 8.9825\n",
      "Epoch 4/10\n",
      "\u001b[1m1000/1000\u001b[0m \u001b[32m━━━━━━━━━━━━━━━━━━━━\u001b[0m\u001b[37m\u001b[0m \u001b[1m14s\u001b[0m 10ms/step - energy: 0.0687 - loss: 0.0687 - mean_particle_number: 8.8289\n",
      "Epoch 5/10\n",
      "\u001b[1m1000/1000\u001b[0m \u001b[32m━━━━━━━━━━━━━━━━━━━━\u001b[0m\u001b[37m\u001b[0m \u001b[1m13s\u001b[0m 9ms/step - energy: 0.0666 - loss: 0.0666 - mean_particle_number: 8.9101\n",
      "Epoch 6/10\n",
      "\u001b[1m1000/1000\u001b[0m \u001b[32m━━━━━━━━━━━━━━━━━━━━\u001b[0m\u001b[37m\u001b[0m \u001b[1m13s\u001b[0m 9ms/step - energy: 0.0683 - loss: 0.0683 - mean_particle_number: 8.9515\n",
      "Epoch 7/10\n",
      "\u001b[1m1000/1000\u001b[0m \u001b[32m━━━━━━━━━━━━━━━━━━━━\u001b[0m\u001b[37m\u001b[0m \u001b[1m13s\u001b[0m 9ms/step - energy: 0.0690 - loss: 0.0690 - mean_particle_number: 8.8850\n",
      "Epoch 8/10\n",
      "\u001b[1m1000/1000\u001b[0m \u001b[32m━━━━━━━━━━━━━━━━━━━━\u001b[0m\u001b[37m\u001b[0m \u001b[1m13s\u001b[0m 9ms/step - energy: 0.0680 - loss: 0.0680 - mean_particle_number: 8.9118\n",
      "Epoch 9/10\n",
      "\u001b[1m1000/1000\u001b[0m \u001b[32m━━━━━━━━━━━━━━━━━━━━\u001b[0m\u001b[37m\u001b[0m \u001b[1m14s\u001b[0m 10ms/step - energy: 0.0710 - loss: 0.0710 - mean_particle_number: 8.9834\n",
      "Epoch 10/10\n",
      "\u001b[1m1000/1000\u001b[0m \u001b[32m━━━━━━━━━━━━━━━━━━━━\u001b[0m\u001b[37m\u001b[0m \u001b[1m14s\u001b[0m 10ms/step - energy: 0.0675 - loss: 0.0675 - mean_particle_number: 8.8728\n"
     ]
    }
   ],
   "source": [
    "lr_schedule = tf.keras.optimizers.schedules.ExponentialDecay(\n",
    "    1e-3,\n",
    "    decay_steps = 5,\n",
    "    decay_rate=0.95,\n",
    "    staircase=True\n",
    ")\n",
    "\n",
    "test_model.compile(\n",
    "    optimizer = tf.keras.optimizers.Adam(lr_schedule),\n",
    "    hamiltonian = hamiltonian,\n",
    ")\n",
    "\n",
    "history = test_model.fit(\n",
    "    dataset.skip(500).take(1000),\n",
    "    epochs = 10,\n",
    "    callbacks = [tf.keras.callbacks.TensorBoard(logdir, histogram_freq=1)]\n",
    ")"
   ]
  },
  {
   "cell_type": "code",
   "execution_count": 12,
   "metadata": {},
   "outputs": [
    {
     "data": {
      "image/png": "[encoded data removed]",
      "text/plain": [
       "<Figure size 2000x500 with 3 Axes>"
      ]
     },
     "metadata": {},
     "output_type": "display_data"
    }
   ],
   "source": [
    "configurations = dataset.skip(500).unbatch().take(7000).cache()\n",
    "fig, axes = plt.subplots(1, 3, figsize=(20, 5))\n",
    "\n",
    "n_values = list(map(lambda x_n: x_n[1].numpy(), configurations))\n",
    "n_counter = Counter(n_values)\n",
    "axes[0].bar(n_counter.keys(), n_counter.values())\n",
    "\n",
    "positions_1 = np.concatenate(list(map(lambda x_n: x_n[0][:x_n[1], 0], configurations))).ravel()\n",
    "positions_2 = np.concatenate(list(map(lambda x_n: x_n[0][:x_n[1], 1], configurations))).ravel()\n",
    "\n",
    "axes[1].hist(positions_1, bins=50)\n",
    "axes[2].hist(positions_2, bins=50);"
   ]
  }
 ],
 "metadata": {
  "kernelspec": {
   "display_name": "Python 3",
   "language": "python",
   "name": "python3"
  },
  "language_info": {
   "codemirror_mode": {
    "name": "ipython",
    "version": 3
   },
   "file_extension": ".py",
   "mimetype": "text/x-python",
   "name": "python",
   "nbconvert_exporter": "python",
   "pygments_lexer": "ipython3",
   "version": "3.12.0"
  }
 },
 "nbformat": 4,
 "nbformat_minor": 2
}
